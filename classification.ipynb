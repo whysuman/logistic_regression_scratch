{
  "cells": [
    {
      "cell_type": "markdown",
      "metadata": {
        "id": "dBbAp_Oiw0hi"
      },
      "source": [
        "# Instruction\n",
        "Plase use <b>Python 3</b> in Jupyter Notebook.\n",
        "\n",
        "This lab focuses on classifcation and prediction. We will practice classification methods on a real world wetland mapping dataset. Each data sample contains several numeric features and a binary class label (0 for dry land, 1 for wetland).\n",
        "\n",
        "<b>Requirement</b>\n",
        "- <font color=red>Plese upload your Jupyter Notebook with required Data files and Python script files all in the SAME zipped FOLDER</font>\n",
        "\n",
        "- Please MAKE SURE your codes run smoothly without bugs in Jupyter Notebook with Python 3.\n",
        "    \n",
        "- <font color=red>Codes with bugs or errors that cannot run through in Jupyter notebook will be graded as ZERO for that part.</font>\n",
        "\n",
        "## Statement of Contribution\n",
        "\n",
        "We both tried the homework on our own. Sumanthra was responsible for developing the programming solutions and the extra credit problem. Karthik completed the written assignment. Both partners were involved in reviewing the code and written components."
      ]
    },
    {
      "cell_type": "code",
      "execution_count": 3,
      "metadata": {
        "id": "vT4XdKtnw0hk"
      },
      "outputs": [],
      "source": [
        "# Load libraries\n",
        "import pandas as pd\n",
        "import numpy as np\n",
        "from sklearn.ensemble import BaggingClassifier # Bagging Classifier\n",
        "from sklearn.ensemble import RandomForestClassifier # Random Forest Classifier\n",
        "from sklearn.tree import DecisionTreeClassifier # Import Decision Tree Classifier\n",
        "from sklearn.linear_model import LogisticRegression # Import Logistic Regression Classifier\n",
        "from sklearn.svm import SVC # Import SVM classifier\n",
        "from sklearn.model_selection import train_test_split # Import train_test_split function\n",
        "from sklearn import metrics #Import scikit-learn metrics module for accuracy calculation"
      ]
    },
    {
      "cell_type": "markdown",
      "metadata": {
        "id": "SQYoNvYGw0hl"
      },
      "source": [
        "## Data loading\n",
        "Please use the following codes to load the data. The training and test data are both saved in common separated values (CSV) format. The last column is class label.\n",
        "\n",
        "PLEASE RUN THE CODES BELOW."
      ]
    },
    {
      "cell_type": "code",
      "execution_count": 7,
      "metadata": {
        "colab": {
          "base_uri": "https://localhost:8080/"
        },
        "id": "Gq0KT2o4w0hl",
        "outputId": "0e595fce-4647-4c05-e92e-59c462be9a33"
      },
      "outputs": [
        {
          "name": "stdout",
          "output_type": "stream",
          "text": [
            "   near infra red   red  green  blue  class\n",
            "0              123  132    115   133      0\n",
            "1              152  150    119   187      1\n",
            "2              169  166    143   192      1\n",
            "3               55   49     43    97      0\n",
            "4              141  135    117   181      1\n",
            "   near infra red   red  green  blue  class\n",
            "0              137  140    129   150      0\n",
            "1              169  162    140   193      1\n",
            "2              124  110     89   162      1\n",
            "3              105  104     99   153      1\n",
            "4              105  102     88   173      1\n"
          ]
        }
      ],
      "source": [
        "#note: class 0 for dry land, class 1 for wetland\n",
        "col_names = ['near infra red ', 'red', 'green', 'blue', 'class']\n",
        "features =  ['near infra red ', 'red', 'green', 'blue']\n",
        "\n",
        "# load dataset\n",
        "train_dat = pd.read_csv(\"train.csv\", header=None, names=col_names)\n",
        "print(train_dat.head())\n",
        "\n",
        "test_dat = pd.read_csv(\"test.csv\", header=None, names=col_names)\n",
        "print(test_dat.head())\n",
        "\n",
        "# COMPLETE CODES BELOW, compute training features X_train, training labels Y_train\n",
        "X_train = train_dat.drop('class', axis='columns')\n",
        "Y_train = train_dat['class']\n",
        "\n",
        "# COMPLETE CODES BELOW, compute test features X_test, test labels Y_test\n",
        "X_test = test_dat.drop('class', axis='columns')\n",
        "Y_test = test_dat['class']"
      ]
    },
    {
      "cell_type": "code",
      "execution_count": 8,
      "metadata": {
        "colab": {
          "base_uri": "https://localhost:8080/",
          "height": 559
        },
        "id": "lg_FfSwL5EFR",
        "outputId": "1d007b0e-3c36-470a-d567-be228ea73a2c"
      },
      "outputs": [
        {
          "name": "stdout",
          "output_type": "stream",
          "text": [
            "class\n",
            "0    560\n",
            "1    440\n",
            "Name: count, dtype: int64\n",
            "['Dryland', 'Wetland'] [560 440]\n"
          ]
        },
        {
          "data": {
            "image/png": "[encoded data removed]",
            "text/plain": [
              "<Figure size 640x480 with 1 Axes>"
            ]
          },
          "metadata": {},
          "output_type": "display_data"
        }
      ],
      "source": [
        "import matplotlib.pyplot as plt\n",
        "\n",
        "counts = train_dat['class'].value_counts()\n",
        "print(counts)\n",
        "\n",
        "\n",
        "# Get the labels and counts from the value_counts() result\n",
        "categories = counts.index\n",
        "values = counts.values\n",
        "\n",
        "# Map numerical labels to meaningful names\n",
        "labels = ['Dryland' if landtype == 0 else 'Wetland' for landtype in categories]\n",
        "print(labels,values)\n",
        "\n",
        "# Create the bar plot\n",
        "plt.bar(labels, values, color=['blue', 'green'])\n",
        "\n",
        "# Add labels and a title for clarity\n",
        "plt.xlabel('Land Type')\n",
        "plt.ylabel('Number of Values')\n",
        "plt.title('Distribution of Dryland vs. Wetland')\n",
        "\n",
        "# Display the plot\n",
        "plt.show()\n"
      ]
    },
    {
      "cell_type": "markdown",
      "metadata": {
        "id": "fjPqkFE4w0hl"
      },
      "source": [
        "## Part 1: Evaluate the performance of decision tree"
      ]
    },
    {
      "cell_type": "markdown",
      "metadata": {
        "id": "1UxpKC5Yw0hl"
      },
      "source": [
        "Run the codes below to train a decision tree, and make predictions on test samples"
      ]
    },
    {
      "cell_type": "code",
      "execution_count": 9,
      "metadata": {
        "id": "CW5krjw9w0hm"
      },
      "outputs": [],
      "source": [
        "# Create Decision Tree classifer object\n",
        "dt = DecisionTreeClassifier()\n",
        "\n",
        "# Train Decision Tree Classifer\n",
        "dt = dt.fit(X_train,Y_train)\n",
        "\n",
        "#Predict the response for test dataset\n",
        "Y_pred = dt.predict(X_test)"
      ]
    },
    {
      "cell_type": "markdown",
      "metadata": {
        "id": "hpkSD6zJw0hm"
      },
      "source": [
        "Run the codes below to compute the \"Overall Accuracy\", as well as Precision, Recall, and F-score for the Wetland class (class 1)"
      ]
    },
    {
      "cell_type": "code",
      "execution_count": 10,
      "metadata": {
        "colab": {
          "base_uri": "https://localhost:8080/"
        },
        "id": "_6FIY5FZw0hm",
        "outputId": "bea17b95-1542-4e57-9c19-e56f5ec85ed8"
      },
      "outputs": [
        {
          "name": "stdout",
          "output_type": "stream",
          "text": [
            "0.783\n",
            "0.7390350877192983\n",
            "0.774712643678161\n",
            "0.7564534231200898\n"
          ]
        }
      ],
      "source": [
        "\n",
        "# accuracy = metrics.accuracy_score(Y_train, Y_pred)\n",
        "# precision_wet = metrics.precision_score(Y_train, Y_pred)\n",
        "# recall_wet = metrics.recall_score(Y_train, Y_pred)\n",
        "# F_wet = metrics.f1_score(Y_train, Y_pred)\n",
        "\n",
        "# print('Metrics of Model on Training Data')\n",
        "# print(accuracy)\n",
        "# print(precision_wet)\n",
        "# print(recall_wet)\n",
        "# print(F_wet)\n",
        "\n",
        "\n",
        "# Fill in codes to calculate the values below; You can add any codes, but don't change the variable names\n",
        "\n",
        "accuracy = metrics.accuracy_score(Y_test, Y_pred)\n",
        "\n",
        "precision_wet = metrics.precision_score(Y_test, Y_pred)\n",
        "\n",
        "recall_wet = metrics.recall_score(Y_test, Y_pred)\n",
        "\n",
        "F_wet = metrics.f1_score(Y_test, Y_pred)\n",
        "\n",
        "print(accuracy)\n",
        "print(precision_wet)\n",
        "print(recall_wet)\n",
        "print(F_wet)"
      ]
    },
    {
      "cell_type": "markdown",
      "metadata": {
        "id": "PDb6OPy8w0hm"
      },
      "source": [
        "<font color=red>ANSWER THE QUESTION BELOW.</font> How do you think about the performance shown by different metrics above. Is accuracy a good metric to reflect classification performance? Why? You can discuss your answer as a string. And print it out."
      ]
    },
    {
      "cell_type": "code",
      "execution_count": 5,
      "metadata": {
        "id": "r8WsKi0V1Xzy"
      },
      "outputs": [],
      "source": []
    },
    {
      "cell_type": "code",
      "execution_count": 11,
      "metadata": {
        "colab": {
          "base_uri": "https://localhost:8080/"
        },
        "id": "EkXsWzVcw0hm",
        "outputId": "3a6ea853-fe5a-4ea7-bddd-b6e00b4e16fd"
      },
      "outputs": [
        {
          "name": "stdout",
          "output_type": "stream",
          "text": [
            "\n",
            "MY Answer: Accuracy is giving a decent representation of the performane since the wetland and dryland classes are not misbalanced by A heavy margin.\n",
            "But accuracy alone is not the best metric because accuracy could look high even if the model performs poorly on a minority class, \n",
            "Precision, recall, and F1-score give a clearer picture of performance. \n",
            "In environmental classification tasks, recall (sensitivity) for wetlands is particularly important, since missing wetlands can have serious ecological consequences.\n",
            "\n",
            "\n"
          ]
        }
      ],
      "source": [
        "#MY ANSWER IS xxxxx\n",
        "ans = '''\n",
        "MY Answer: Accuracy is giving a decent representation of the performane since the wetland and dryland classes are not misbalanced by A heavy margin.\n",
        "But accuracy alone is not the best metric because accuracy could look high even if the model performs poorly on a minority class,\n",
        "Precision, recall, and F1-score give a clearer picture of performance.\n",
        "In environmental classification tasks, recall (sensitivity) for wetlands is particularly important, since missing wetlands can have serious ecological consequences.\n",
        "\n",
        "'''\n",
        "print(ans)"
      ]
    },
    {
      "cell_type": "markdown",
      "metadata": {
        "id": "cX8y-tnGw0hn"
      },
      "source": [
        "## Part 2: Overfitting issues\n",
        "<font color=red>PLEASE COMPLETE TEH CODES BELOW.</font> Please re-train the decision tree model with a smaller number of training samples. <font color=red>DO NOT change the tree model parameters (e.g., minimum leaf node size) from Part 1</font>"
      ]
    },
    {
      "cell_type": "code",
      "execution_count": 12,
      "metadata": {
        "colab": {
          "base_uri": "https://localhost:8080/"
        },
        "id": "h3kOfdbtw0hn",
        "outputId": "15ab584e-0d9b-42a7-f615-fa8e558dd441"
      },
      "outputs": [
        {
          "name": "stdout",
          "output_type": "stream",
          "text": [
            "   near infra red   red  green  blue  class\n",
            "0              143  150    145   156      0\n",
            "1              151  143    120   183      1\n",
            "2              100   98     86   156      0\n",
            "3              140  137    119   182      0\n",
            "4              147  147    138   160      0\n",
            "   near infra red   red  green  blue  class\n",
            "0              137  140    129   150      0\n",
            "1              169  162    140   193      1\n",
            "2              124  110     89   162      1\n",
            "3              105  104     99   153      1\n",
            "4              105  102     88   173      1\n",
            "Metrics of Model on Training Data\n",
            "1.0\n",
            "1.0\n",
            "1.0\n",
            "1.0\n",
            "Metrics of Model on Test Data\n",
            "0.697\n",
            "0.6586538461538461\n",
            "0.6298850574712643\n",
            "0.6439482961222092\n"
          ]
        }
      ],
      "source": [
        "# Re-run the training and testing based on a smaller training set (smalltrain.csv).\n",
        "#note: class 0 for dry land, class 1 for wetland\n",
        "col_names = ['near infra red ', 'red', 'green', 'blue', 'class']\n",
        "features =  ['near infra red ', 'red', 'green', 'blue']\n",
        "\n",
        "# load dataset\n",
        "train_dat = pd.read_csv(\"smalltrain.csv\", header=None, names=col_names)\n",
        "print(train_dat.head())\n",
        "\n",
        "test_dat = pd.read_csv(\"test.csv\", header=None, names=col_names)\n",
        "print(test_dat.head())\n",
        "\n",
        "# COMPLETE CODES BELOW, compute training features X_train, training labels Y_train\n",
        "X_train = train_dat.drop('class', axis='columns')\n",
        "Y_train = train_dat['class']\n",
        "\n",
        "# COMPLETE CODES BELOW, compute test features X_test, test labels Y_test\n",
        "X_test = test_dat.drop('class',axis='columns')\n",
        "Y_test = test_dat['class']\n",
        "\n",
        "# Create Decision Tree classifer object\n",
        "dt = DecisionTreeClassifier()\n",
        "\n",
        "# Train Decision Tree Classifer\n",
        "dt = dt.fit(X_train,Y_train)\n",
        "\n",
        "# Re-evaluate the trained model on test data, print out accuracy, precision, recall, F-score\n",
        "Y_pred = dt.predict(X_train)\n",
        "accuracy = metrics.accuracy_score(Y_train, Y_pred)\n",
        "precision_wet = metrics.precision_score(Y_train, Y_pred)\n",
        "recall_wet = metrics.recall_score(Y_train, Y_pred)\n",
        "F_wet = metrics.f1_score(Y_train, Y_pred)\n",
        "\n",
        "print('Metrics of Model on Training Data')\n",
        "print(accuracy)\n",
        "print(precision_wet)\n",
        "print(recall_wet)\n",
        "print(F_wet)\n",
        "\n",
        "Y_pred = dt.predict(X_test)\n",
        "accuracy = metrics.accuracy_score(Y_test,Y_pred)\n",
        "precision_wet = metrics.precision_score(Y_test,Y_pred)\n",
        "recall_wet = metrics.recall_score(Y_test,Y_pred)\n",
        "F_wet = metrics.f1_score(Y_test,Y_pred)\n",
        "\n",
        "print('Metrics of Model on Test Data')\n",
        "print(accuracy)\n",
        "print(precision_wet)\n",
        "print(recall_wet)\n",
        "print(F_wet)"
      ]
    },
    {
      "cell_type": "markdown",
      "metadata": {
        "id": "CbF3YhlTw0hn"
      },
      "source": [
        "<font color=red>ANSWER THE QUESTION BELOW.</font> What do you observe when the number of training samples decrese? Is this overfitting or underfitting?"
      ]
    },
    {
      "cell_type": "code",
      "execution_count": 13,
      "metadata": {
        "colab": {
          "base_uri": "https://localhost:8080/"
        },
        "id": "hYLTJPX2w0hn",
        "outputId": "310ca9f0-e3dc-4c54-8bf7-b23ac9f7a273"
      },
      "outputs": [
        {
          "name": "stdout",
          "output_type": "stream",
          "text": [
            "\n",
            "MY Answer: The model is overfitting because, the training accuracy and other metrics are 1 but when trying to generalise,\n",
            "the test accuracy,precision,recall,f1 scores are much lower. This indicates that the decision tree has overfitted\n",
            "over the training data\n",
            "\n"
          ]
        }
      ],
      "source": [
        "#MY Answer: xxxxxxxxxxx\n",
        "ans = '''\n",
        "MY Answer: The model is overfitting because, the training accuracy and other metrics are 1 but when trying to generalise,\n",
        "the test accuracy,precision,recall,f1 scores are much lower. This indicates that the decision tree has overfitted\n",
        "over the training data\n",
        "'''\n",
        "\n",
        "print(ans)"
      ]
    },
    {
      "cell_type": "markdown",
      "metadata": {
        "id": "1bQtQ3naw0hn"
      },
      "source": [
        "We now do another experiment to mitigate the effect of overfitting by decreasing the model complexity. We keep using the small training data (smalltrain.csv) that leads to overfitting. We decrease model complexity by having a larger minimum leaf node size (\"min_sample_split=30\")."
      ]
    },
    {
      "cell_type": "code",
      "execution_count": 14,
      "metadata": {
        "colab": {
          "base_uri": "https://localhost:8080/"
        },
        "id": "irXHbVvIw0hn",
        "outputId": "32ec94d6-f514-4699-ed80-d86038b7569c"
      },
      "outputs": [
        {
          "name": "stdout",
          "output_type": "stream",
          "text": [
            "   near infra red   red  green  blue  class\n",
            "0              143  150    145   156      0\n",
            "1              151  143    120   183      1\n",
            "2              100   98     86   156      0\n",
            "3              140  137    119   182      0\n",
            "4              147  147    138   160      0\n",
            "   near infra red   red  green  blue  class\n",
            "0              137  140    129   150      0\n",
            "1              169  162    140   193      1\n",
            "2              124  110     89   162      1\n",
            "3              105  104     99   153      1\n",
            "4              105  102     88   173      1\n",
            "Metrics of Model on Test Data\n",
            "0.757\n",
            "0.6889763779527559\n",
            "0.8045977011494253\n",
            "0.7423117709437964\n"
          ]
        }
      ],
      "source": [
        "col_names = ['near infra red ', 'red', 'green', 'blue', 'class']\n",
        "features =  ['near infra red ', 'red', 'green', 'blue']\n",
        "\n",
        "# load dataset\n",
        "train_dat = pd.read_csv(\"smalltrain.csv\", header=None, names=col_names)\n",
        "print(train_dat.head())\n",
        "\n",
        "test_dat = pd.read_csv(\"test.csv\", header=None, names=col_names)\n",
        "print(test_dat.head())\n",
        "\n",
        "# COMPLETE CODES BELOW, compute training features X_train, training labels Y_train\n",
        "X_train = train_dat.drop('class', axis='columns')\n",
        "Y_train = train_dat['class']\n",
        "\n",
        "# COMPLETE CODES BELOW, compute test features X_test, test labels Y_test\n",
        "X_test = test_dat.drop('class', axis='columns')\n",
        "Y_test = test_dat['class']\n",
        "\n",
        "# Create Decision Tree classifer object\n",
        "dt_simple = DecisionTreeClassifier(min_samples_split=30) ### Make model much simplier by requiring 30 samples to split\n",
        "\n",
        "# Train Decision Tree Classifer\n",
        "dt_simple = dt_simple.fit(X_train, Y_train)\n",
        "\n",
        "#Predict the response for test dataset\n",
        "Y_pred = dt_simple.predict(X_test)\n",
        "\n",
        "\n",
        "accuracy = metrics.accuracy_score(Y_test, Y_pred)\n",
        "precision_wet = metrics.precision_score(Y_test, Y_pred)\n",
        "recall_wet = metrics.recall_score(Y_test, Y_pred)\n",
        "F_wet = metrics.f1_score(Y_test, Y_pred)\n",
        "\n",
        "\n",
        "print('Metrics of Model on Test Data')\n",
        "print(accuracy)\n",
        "print(precision_wet)\n",
        "print(recall_wet)\n",
        "print(F_wet)"
      ]
    },
    {
      "cell_type": "markdown",
      "metadata": {
        "id": "qXoMLYogw0hn"
      },
      "source": [
        "<font color=red>ANSWER THE QUESTION BELOW.</font> Compare the results above with the results from the beginning of Part 2 (smalltrain.csv with the original decision tree without decreasing model complexity), what did you observe?"
      ]
    },
    {
      "cell_type": "code",
      "execution_count": 15,
      "metadata": {
        "colab": {
          "base_uri": "https://localhost:8080/"
        },
        "id": "Jtj2oGaWw0hn",
        "outputId": "278d9342-ffa0-493d-c70b-dab31a113c79"
      },
      "outputs": [
        {
          "name": "stdout",
          "output_type": "stream",
          "text": [
            "\n",
            "MY Answer:\n",
            "By decreasing model complexity with min_samples_split=30, we can see that the test performance improved compared to the overfitted model. \n",
            "The regularized model shows more balanced performance with 0.757 test accuracy, which is better than the overfitted version.\n",
            "Also, the regularized model achieved much higher recall (0.807 vs 0.667), meaning it's better at correctly identifying wetlands. \n",
            "The improvement in F1-Score(0.743 vs 0.668) also shows better overall balance between precision and recall.\n",
            "This demonstrates that reducing model complexity can help mitigate overfitting and improve generalization across all evaluation metrics.\n",
            "\n"
          ]
        }
      ],
      "source": [
        "#MY ANSWER IS xxxxx\n",
        "ans = '''\n",
        "MY Answer:\n",
        "By decreasing model complexity with min_samples_split=30, we can see that the test performance improved compared to the overfitted model.\n",
        "The regularized model shows more balanced performance with 0.757 test accuracy, which is better than the overfitted version.\n",
        "Also, the regularized model achieved much higher recall (0.807 vs 0.667), meaning it's better at correctly identifying wetlands.\n",
        "The improvement in F1-Score(0.743 vs 0.668) also shows better overall balance between precision and recall.\n",
        "This demonstrates that reducing model complexity can help mitigate overfitting and improve generalization across all evaluation metrics.\n",
        "'''\n",
        "print(ans)"
      ]
    },
    {
      "cell_type": "markdown",
      "metadata": {
        "id": "pIbxOrbnw0hn"
      },
      "source": [
        "## Part 3: Compare different model on the same test data\n",
        "In this part, you will train other types of models and evaluate on the test data. You will compare their classification performance.\n",
        "\n",
        "<font color=red>PLEASE COMPLETE TEH CODES BELOW.</font> PLEASE USE THE SAME TRAINING AND TEST DATA as in Part 1."
      ]
    },
    {
      "cell_type": "code",
      "execution_count": 16,
      "metadata": {
        "colab": {
          "base_uri": "https://localhost:8080/"
        },
        "id": "3xBl3L-Jw0hn",
        "outputId": "60590605-82a9-43e3-d4e4-6ff9a0d43734"
      },
      "outputs": [
        {
          "name": "stdout",
          "output_type": "stream",
          "text": [
            "   near infra red   red  green  blue  class\n",
            "0              123  132    115   133      0\n",
            "1              152  150    119   187      1\n",
            "2              169  166    143   192      1\n",
            "3               55   49     43    97      0\n",
            "4              141  135    117   181      1\n",
            "   near infra red   red  green  blue  class\n",
            "0              137  140    129   150      0\n",
            "1              169  162    140   193      1\n",
            "2              124  110     89   162      1\n",
            "3              105  104     99   153      1\n",
            "4              105  102     88   173      1\n",
            "0.757\n",
            "0.7307692307692307\n",
            "0.6988505747126437\n",
            "0.7144535840188014\n"
          ]
        }
      ],
      "source": [
        "col_names = ['near infra red ', 'red', 'green', 'blue', 'class']\n",
        "features =  ['near infra red ', 'red', 'green', 'blue']\n",
        "\n",
        "# load dataset\n",
        "train_dat = pd.read_csv(\"train.csv\", header=None, names=col_names)\n",
        "print(train_dat.head())\n",
        "\n",
        "test_dat = pd.read_csv(\"test.csv\", header=None, names=col_names)\n",
        "print(test_dat.head())\n",
        "\n",
        "# COMPLETE CODES BELOW, compute training features X_train, training labels Y_train\n",
        "X_train = train_dat.drop('class', axis='columns')\n",
        "Y_train = train_dat['class']\n",
        "\n",
        "# COMPLETE CODES BELOW, compute test features X_test, test labels Y_test\n",
        "X_test = test_dat.drop('class', axis='columns')\n",
        "Y_test = test_dat['class']\n",
        "\n",
        "# train a logistic regression model; e.g., use the LogisticRegression model in Scikit-Learn.\n",
        "# using parameter \"solver='liblinear'\"\n",
        "lr = LogisticRegression(solver='liblinear')\n",
        "lr = lr.fit(X_train, Y_train)\n",
        "Y_pred = lr.predict(X_test)\n",
        "\n",
        "# evalute the logistic regression model on test data\n",
        "accuracy = metrics.accuracy_score(Y_test, Y_pred)\n",
        "precision_wet = metrics.precision_score(Y_test, Y_pred)\n",
        "recall_wet = metrics.recall_score(Y_test, Y_pred)\n",
        "F_wet = metrics.f1_score(Y_test, Y_pred)\n",
        "\n",
        "print(accuracy)\n",
        "print(precision_wet)\n",
        "print(recall_wet)\n",
        "print(F_wet)\n"
      ]
    },
    {
      "cell_type": "code",
      "execution_count": 17,
      "metadata": {
        "colab": {
          "base_uri": "https://localhost:8080/"
        },
        "id": "Z02ikdfPw0ho",
        "outputId": "5b00065b-dc0e-41e4-9e3a-b5b5b3a33aff"
      },
      "outputs": [
        {
          "name": "stdout",
          "output_type": "stream",
          "text": [
            "0.81\n",
            "0.7406679764243614\n",
            "0.8666666666666667\n",
            "0.798728813559322\n"
          ]
        }
      ],
      "source": [
        "# train a Support Vector Machine (SVM) model, e.g., the SVC model in Scikit-Learn, choose parameters approprioately\n",
        "\n",
        "# Please find the SVC function in Scikit-Learn, use parameters \"gamma='scale', C=100\"\n",
        "clf = SVC(gamma='scale', C=100)\n",
        "clf.fit(X_train, Y_train)\n",
        "\n",
        "# evalute the Support Vector Machine (SVM) model on test data\n",
        "Y_pred = clf.predict(X_test)\n",
        "accuracy = metrics.accuracy_score(Y_test, Y_pred)\n",
        "precision_wet = metrics.precision_score(Y_test, Y_pred)\n",
        "recall_wet = metrics.recall_score(Y_test, Y_pred)\n",
        "F_wet = metrics.f1_score(Y_test, Y_pred)\n",
        "\n",
        "print(accuracy)\n",
        "print(precision_wet)\n",
        "print(recall_wet)\n",
        "print(F_wet)"
      ]
    },
    {
      "cell_type": "markdown",
      "metadata": {
        "id": "juB9LaBqw0ho"
      },
      "source": [
        "<font color=red>ANSWER THE QUESTION BELOW.</font> How do you compare the results from different models above with decision tree?"
      ]
    },
    {
      "cell_type": "code",
      "execution_count": 18,
      "metadata": {
        "colab": {
          "base_uri": "https://localhost:8080/"
        },
        "id": "75HezHXiw0ho",
        "outputId": "63be62e8-93f3-4b83-e3b9-550930873069"
      },
      "outputs": [
        {
          "name": "stdout",
          "output_type": "stream",
          "text": [
            "\n",
            "My Answer: Comparing the different models on the test data:\n",
            "1. Decision Tree (Part 1 i.e before overfitting): 0.782 accuracy, 0.737 precision, 0.775 recall, 0.756 F1\n",
            "2. Logistic Regression: 0.757 accuracy, 0.731 precision, 0.699 recall, 0.714 F1  \n",
            "3. Support Vector Machine: 0.810 accuracy, 0.741 precision, 0.867 recall, 0.799 F1\n",
            "\n",
            "The SVM model performed best overall with the highest accuracy (0.810) and F1-score (0.799).\n",
            "SVM also had the best recall (0.867) for wetland detection, which is important for environmental applications.\n",
            "The decision tree performed moderately well, while logistic regression had the lowest performance among the three.\n",
            "\n"
          ]
        }
      ],
      "source": [
        "ans = '''\n",
        "My Answer: Comparing the different models on the test data:\n",
        "1. Decision Tree (Part 1 i.e before overfitting): 0.782 accuracy, 0.737 precision, 0.775 recall, 0.756 F1\n",
        "2. Logistic Regression: 0.757 accuracy, 0.731 precision, 0.699 recall, 0.714 F1\n",
        "3. Support Vector Machine: 0.810 accuracy, 0.741 precision, 0.867 recall, 0.799 F1\n",
        "\n",
        "The SVM model performed best overall with the highest accuracy (0.810) and F1-score (0.799).\n",
        "SVM also had the best recall (0.867) for wetland detection, which is important for environmental applications.\n",
        "The decision tree performed moderately well, while logistic regression had the lowest performance among the three.\n",
        "'''\n",
        "\n",
        "print(ans)"
      ]
    },
    {
      "cell_type": "markdown",
      "metadata": {
        "id": "mZBFij--w0ho"
      },
      "source": [
        "## Part 4: Ensemble learning\n",
        "In this part, you will run several ensemble learning of decision trees, including bagging and random forest. For random forest, you can directly call it as a separate model from library.\n",
        "\n",
        "<font color=red>PLEASE COMPLETE CODES BELOW</font>. PLEASE USE THE ORIGINAL TRAINING AND TEST DATA in Part 1."
      ]
    },
    {
      "cell_type": "code",
      "execution_count": 24,
      "metadata": {
        "colab": {
          "base_uri": "https://localhost:8080/"
        },
        "id": "RTuYs3ngw0ho",
        "outputId": "45bb7d79-2a79-4ae8-de51-396a5c359744"
      },
      "outputs": [
        {
          "name": "stdout",
          "output_type": "stream",
          "text": [
            "   near infra red   red  green  blue  class\n",
            "0              123  132    115   133      0\n",
            "1              152  150    119   187      1\n",
            "2              169  166    143   192      1\n",
            "3               55   49     43    97      0\n",
            "4              141  135    117   181      1\n",
            "   near infra red   red  green  blue  class\n",
            "0              137  140    129   150      0\n",
            "1              169  162    140   193      1\n",
            "2              124  110     89   162      1\n",
            "3              105  104     99   153      1\n",
            "4              105  102     88   173      1\n",
            "0.811\n",
            "0.7900943396226415\n",
            "0.7701149425287356\n",
            "0.779976717112922\n"
          ]
        }
      ],
      "source": [
        "#note: class 0 for dry land, class 1 for wetland\n",
        "col_names = ['near infra red ', 'red', 'green', 'blue', 'class']\n",
        "features =  ['near infra red ', 'red', 'green', 'blue']\n",
        "\n",
        "# load dataset\n",
        "train_dat = pd.read_csv(\"train.csv\", header=None, names=col_names)\n",
        "print(train_dat.head())\n",
        "\n",
        "test_dat = pd.read_csv(\"test.csv\", header=None, names=col_names)\n",
        "print(test_dat.head())\n",
        "\n",
        "# COMPLETE CODES BELOW, compute training features X_train, training labels Y_train\n",
        "X_train = train_dat.drop('class', axis='columns')\n",
        "Y_train = train_dat['class']\n",
        "\n",
        "# COMPLETE CODES BELOW, compute test features X_test, test labels Y_test\n",
        "X_test = test_dat.drop('class', axis='columns')\n",
        "Y_test = test_dat['class']\n",
        "\n",
        "# please train bagging of decision tree, using BaggingClassifier with default parameters\n",
        "clf = BaggingClassifier()\n",
        "clf = clf.fit(X_train, Y_train)\n",
        "\n",
        "# please evaluate it on the test data\n",
        "Y_pred = clf.predict(X_test)\n",
        "accuracy = metrics.accuracy_score(Y_test, Y_pred)\n",
        "precision_wet = metrics.precision_score(Y_test, Y_pred)\n",
        "recall_wet = metrics.recall_score(Y_test, Y_pred)\n",
        "F_wet = metrics.f1_score(Y_test, Y_pred)\n",
        "\n",
        "print(accuracy)\n",
        "print(precision_wet)\n",
        "print(recall_wet)\n",
        "print(F_wet)"
      ]
    },
    {
      "cell_type": "code",
      "execution_count": 25,
      "metadata": {
        "colab": {
          "base_uri": "https://localhost:8080/"
        },
        "id": "G48rPEIcw0ho",
        "outputId": "f631ee7a-085e-49fc-9345-541958f6f502"
      },
      "outputs": [
        {
          "name": "stdout",
          "output_type": "stream",
          "text": [
            "0.809\n",
            "0.7772727272727272\n",
            "0.7862068965517242\n",
            "0.7817142857142857\n"
          ]
        }
      ],
      "source": [
        "# please train a random forest, using RandomForestClassifier function with paramters \"n_estimators=50\"\n",
        "clf = RandomForestClassifier(n_estimators=50)\n",
        "clf = clf.fit(X_train, Y_train)\n",
        "\n",
        "# please evaluate it on the test data\n",
        "Y_pred = clf.predict(X_test)\n",
        "accuracy = metrics.accuracy_score(Y_test, Y_pred)\n",
        "precision_wet = metrics.precision_score(Y_test, Y_pred)\n",
        "recall_wet = metrics.recall_score(Y_test, Y_pred)\n",
        "F_wet = metrics.f1_score(Y_test, Y_pred)\n",
        "\n",
        "print(accuracy)\n",
        "print(precision_wet)\n",
        "print(recall_wet)\n",
        "print(F_wet)"
      ]
    },
    {
      "cell_type": "code",
      "execution_count": 17,
      "metadata": {
        "id": "fAF_Pw1woIb9"
      },
      "outputs": [],
      "source": [
        "# print(Y_pred.head())"
      ]
    },
    {
      "cell_type": "markdown",
      "metadata": {
        "id": "OPiZk1CCw0ho"
      },
      "source": [
        "PLEASE ANSWER THE QUESTION BELOW. How do you compare different ensemble methods? Which one has the best performance?"
      ]
    },
    {
      "cell_type": "code",
      "execution_count": 26,
      "metadata": {
        "colab": {
          "base_uri": "https://localhost:8080/"
        },
        "id": "aPyIN2zyw0ho",
        "outputId": "422fae4b-2a54-41fa-d648-fce67ad496a9"
      },
      "outputs": [
        {
          "name": "stdout",
          "output_type": "stream",
          "text": [
            "\n",
            "MY ANSWER:\n",
            "Bagging achieves higher accuracy (0.811 vs. 0.809) and precision (0.790 vs. 0.777), meaning it is slightly better at avoiding false positives. \n",
            "However, Random Forest achieves higher recall (0.786 vs. 0.770) and a marginally better F1 score (0.782 vs. 0.780), indicating it is \n",
            "more effective at correctly identifying positives while maintaining a balanced trade-off between precision and recall. \n",
            "Since the F1 score is generally the best measure of overall performance, Random Forest can be considered the stronger method in this comparison, \n",
            "though the difference is minimal.\n",
            "\n"
          ]
        }
      ],
      "source": [
        "ans = '''\n",
        "MY ANSWER:\n",
        "Bagging achieves higher accuracy (0.811 vs. 0.809) and precision (0.790 vs. 0.777), meaning it is slightly better at avoiding false positives.\n",
        "However, Random Forest achieves higher recall (0.786 vs. 0.770) and a marginally better F1 score (0.782 vs. 0.780), indicating it is\n",
        "more effective at correctly identifying positives while maintaining a balanced trade-off between precision and recall.\n",
        "Since the F1 score is generally the best measure of overall performance, Random Forest can be considered the stronger method in this comparison,\n",
        "though the difference is minimal.\n",
        "'''\n",
        "\n",
        "print(ans)"
      ]
    },
    {
      "cell_type": "markdown",
      "metadata": {
        "id": "6U52GDyXw0hp"
      },
      "source": [
        "## Part 5 (EXTRA CREDIT): Implement your own classifier (logistic regression)\n",
        "\n",
        "You should implement your logistic regression model: a training function and a test function. Save your source codes in 'myLR.py'. Put the python script in the same dirctory of this Jupyter Notebook. Load the scripts so that you can call your own training and prediction functions. Then evaluate the results on test data. Compare your results from the results from built-in logistic regression library in Part 4. Please use the same training data and test data as Part 1. Please make sure you print out the accuracy, confusion matrix, precision, recall, F-score.\n",
        "\n",
        "<b>Requirement</b>\n",
        "\n",
        "- Your codes should run through without bugs. Codes with bugs in Jupyter notebook running will NOT be graded.\n",
        "    \n",
        "- You CANNOT copy a same python codes from online for this question. It will be treated as cheating.\n"
      ]
    },
    {
      "cell_type": "code",
      "execution_count": null,
      "metadata": {
        "id": "h8pafAAFWD2P"
      },
      "outputs": [],
      "source": [
        "\n",
        "import numpy as np\n",
        "import pandas as pd\n",
        "\n",
        "class MyLR:\n",
        "    \"\"\"\n",
        "    Enhanced Logistic Regression with regularization and adaptive learning\n",
        "    \"\"\"\n",
        "\n",
        "    def __init__(self, learning_rate=0.5, max_iterations=3000, tolerance=1e-8, reg_lambda=0.01):\n",
        "        \"\"\"\n",
        "        Initialize with improved hyperparameters\n",
        "\n",
        "        Parameters:\n",
        "        learning_rate: Higher initial learning rate for faster convergence\n",
        "        max_iterations: More iterations for better optimization\n",
        "        tolerance: Convergence threshold\n",
        "        reg_lambda: L2 regularization parameter to prevent overfitting\n",
        "        \"\"\"\n",
        "        self.learning_rate = learning_rate\n",
        "        self.max_iterations = max_iterations\n",
        "        self.tolerance = tolerance\n",
        "        self.reg_lambda = reg_lambda\n",
        "        self.weights = None\n",
        "        self.bias = None\n",
        "        self.cost_history = []\n",
        "\n",
        "    def sigmoid(self, z):\n",
        "\n",
        "        z = np.clip(z, -500, 500)\n",
        "        return 1 / (1 + np.exp(-z))\n",
        "\n",
        "    def add_polynomial_features(self, X):\n",
        "        \n",
        "        # Add polynomial features (squares and interactions) to capture non-linear patterns\n",
        "        \n",
        "        X_poly = X.copy()\n",
        "        n_features = X.shape[1]\n",
        "\n",
        "        # Add squared terms\n",
        "        for i in range(n_features):\n",
        "            X_poly = np.column_stack([X_poly, X[:, i] ** 2])\n",
        "\n",
        "        # Add interaction terms between features\n",
        "        for i in range(n_features):\n",
        "            for j in range(i+1, n_features):\n",
        "                X_poly = np.column_stack([X_poly, X[:, i] * X[:, j]])\n",
        "\n",
        "        return X_poly\n",
        "\n",
        "    def fit(self, X, y):\n",
        "        \"\"\"\n",
        "        Train with feature engineering and adaptive learning rate\n",
        "        \"\"\"\n",
        "        if isinstance(X, pd.DataFrame):\n",
        "            X = X.values\n",
        "        if isinstance(y, pd.Series):\n",
        "            y = y.values\n",
        "\n",
        "        # Add polynomial features for better non-linear modeling\n",
        "        X = self.add_polynomial_features(X)\n",
        "\n",
        "        # Normalize features\n",
        "        self.mean_ = np.mean(X, axis=0)\n",
        "        self.std_ = np.std(X, axis=0)\n",
        "        self.std_ = np.where(self.std_ == 0, 1, self.std_)\n",
        "        X_normalized = (X - self.mean_) / self.std_\n",
        "\n",
        "        n_samples, n_features = X_normalized.shape\n",
        "\n",
        "        # Better initialization using Xavier/He initialization\n",
        "        np.random.seed(42)\n",
        "        self.weights = np.random.normal(0, np.sqrt(2.0/n_features), n_features)\n",
        "        self.bias = 0.0\n",
        "\n",
        "        # Adaptive learning rate\n",
        "        initial_lr = self.learning_rate\n",
        "\n",
        "        # Gradient descent with momentum\n",
        "        velocity_w = np.zeros(n_features)\n",
        "        velocity_b = 0.0\n",
        "        momentum = 0.9\n",
        "\n",
        "        prev_cost = float('inf')\n",
        "        patience = 0\n",
        "        best_weights = self.weights.copy()\n",
        "        best_bias = self.bias\n",
        "        best_cost = float('inf')\n",
        "\n",
        "        for i in range(self.max_iterations):\n",
        "            # Forward pass\n",
        "            linear_pred = np.dot(X_normalized, self.weights) + self.bias\n",
        "            predictions = self.sigmoid(linear_pred)\n",
        "\n",
        "            # Compute cost with L2 regularization\n",
        "            cost = self.cross_entropy_loss(y, predictions)\n",
        "            reg_cost = cost + (self.reg_lambda / (2 * n_samples)) * np.sum(self.weights ** 2)\n",
        "            self.cost_history.append(reg_cost)\n",
        "\n",
        "            # Tracking the best model\n",
        "            if reg_cost < best_cost:\n",
        "                best_cost = reg_cost\n",
        "                best_weights = self.weights.copy()\n",
        "                best_bias = self.bias\n",
        "                patience = 0\n",
        "            else:\n",
        "                patience += 1\n",
        "\n",
        "            # Compute gradients with L2 regularization\n",
        "            dw = (1/n_samples) * np.dot(X_normalized.T, (predictions - y))\n",
        "            dw += (self.reg_lambda / n_samples) * self.weights  # L2 regularization\n",
        "            db = (1/n_samples) * np.sum(predictions - y)\n",
        "\n",
        "            # Momentum update\n",
        "            velocity_w = momentum * velocity_w - self.learning_rate * dw\n",
        "            velocity_b = momentum * velocity_b - self.learning_rate * db\n",
        "\n",
        "            self.weights += velocity_w\n",
        "            self.bias += velocity_b\n",
        "\n",
        "            # Adaptive learning rate decay\n",
        "            if i > 0 and i % 500 == 0:\n",
        "                self.learning_rate *= 0.95\n",
        "\n",
        "            # Check convergence\n",
        "            if abs(prev_cost - reg_cost) < self.tolerance:\n",
        "                print(f\"Converged after {i+1} iterations\")\n",
        "                break\n",
        "\n",
        "            # Early stopping if no improvement\n",
        "            if patience > 200:\n",
        "                print(f\"Early stopping at iteration {i+1}\")\n",
        "                self.weights = best_weights\n",
        "                self.bias = best_bias\n",
        "                break\n",
        "\n",
        "            prev_cost = reg_cost\n",
        "\n",
        "            if (i + 1) % 500 == 0:\n",
        "                print(f\"Iteration {i+1}, Cost: {reg_cost:.6f}, LR: {self.learning_rate:.4f}\")\n",
        "\n",
        "        # Use best model found\n",
        "        self.weights = best_weights\n",
        "        self.bias = best_bias\n",
        "\n",
        "        return self\n",
        "\n",
        "    def cross_entropy_loss(self, y_true, y_pred):\n",
        "        epsilon = 1e-15\n",
        "        y_pred = np.clip(y_pred, epsilon, 1 - epsilon)\n",
        "        cost = -np.mean(y_true * np.log(y_pred) + (1 - y_true) * np.log(1 - y_pred))\n",
        "        return cost\n",
        "\n",
        "    def predict(self, X):\n",
        "        if isinstance(X, pd.DataFrame):\n",
        "            X = X.values\n",
        "\n",
        "        # Apply same feature engineering\n",
        "        X = self.add_polynomial_features(X)\n",
        "        X_normalized = (X - self.mean_) / self.std_\n",
        "        linear_pred = np.dot(X_normalized, self.weights) + self.bias\n",
        "        probabilities = self.sigmoid(linear_pred)\n",
        "        # Can tune threshold if needed (default 0.5)\n",
        "        predictions = (probabilities >= 0.5).astype(int)\n",
        "\n",
        "        print(f\"Probability range: [{probabilities.min():.3f}, {probabilities.max():.3f}]\")\n",
        "        print(f\"Predictions distribution: {np.bincount(predictions)}\")\n",
        "\n",
        "        return predictions\n",
        "        "
      ]
    },
    {
      "cell_type": "code",
      "execution_count": 4,
      "metadata": {
        "colab": {
          "base_uri": "https://localhost:8080/"
        },
        "id": "nSAIod-yoVjq",
        "outputId": "ac98247c-f8d3-4f32-8f19-3afe2dbf79e4"
      },
      "outputs": [
        {
          "name": "stdout",
          "output_type": "stream",
          "text": [
            "   near infra red   red  green  blue  class\n",
            "0              123  132    115   133      0\n",
            "1              152  150    119   187      1\n",
            "2              169  166    143   192      1\n",
            "3               55   49     43    97      0\n",
            "4              141  135    117   181      1\n",
            "   near infra red   red  green  blue  class\n",
            "0              137  140    129   150      0\n",
            "1              169  162    140   193      1\n",
            "2              124  110     89   162      1\n",
            "3              105  104     99   153      1\n",
            "4              105  102     88   173      1\n",
            "Iteration 500, Cost: 0.448086, LR: 0.5000\n",
            "Iteration 1000, Cost: 0.429929, LR: 0.4750\n",
            "Iteration 1500, Cost: 0.422707, LR: 0.4512\n",
            "Iteration 2000, Cost: 0.418896, LR: 0.4287\n",
            "Iteration 2500, Cost: 0.416492, LR: 0.4073\n",
            "Iteration 3000, Cost: 0.414796, LR: 0.3869\n",
            "Probability range: [0.000, 1.000]\n",
            "Predictions distribution: [515 485]\n",
            "[[440 125]\n",
            " [ 75 360]]\n",
            "0.8\n",
            "0.7422680412371134\n",
            "0.8275862068965517\n",
            "0.782608695652174\n"
          ]
        }
      ],
      "source": [
        "# Load data\n",
        "col_names = ['near infra red ', 'red', 'green', 'blue', 'class']\n",
        "features =  ['near infra red ', 'red', 'green', 'blue']\n",
        "\n",
        "# load dataset\n",
        "train_dat = pd.read_csv(\"train.csv\", header=None, names=col_names)\n",
        "print(train_dat.head())\n",
        "\n",
        "test_dat = pd.read_csv(\"test.csv\", header=None, names=col_names)\n",
        "print(test_dat.head())\n",
        "\n",
        "# COMPLETE CODES BELOW, compute training features X_train, training labels Y_train\n",
        "X_train = train_dat.drop('class',axis = 'columns')\n",
        "Y_train = train_dat['class']\n",
        "\n",
        "# COMPLETE CODES BELOW, compute test features X_test, test labels Y_test\n",
        "X_test = test_dat.drop('class',axis='columns')\n",
        "Y_test = test_dat['class']\n",
        "\n",
        "\n",
        "# Call your own function to train a logistic regression model, as what we did in Part 1 with decision tree\n",
        "myLR = MyLR() #Initaliising with default parameters\n",
        "myLR = myLR.fit(X_train, Y_train)\n",
        "\n",
        "# Call your own function to make prediction on test data, and evaluate those metrics, as what we did in Part 1 with deicsion tree\n",
        "Y_pred = myLR.predict(X_test)\n",
        "# print(Y_pred.head())\n",
        "# print(Y_pred.shape)\n",
        "\n",
        "# evalute the logistic regression model on test data\n",
        "confusion_matrix = metrics.confusion_matrix(Y_test, Y_pred)\n",
        "accuracy = metrics.accuracy_score(Y_test, Y_pred)\n",
        "precision_wet = metrics.precision_score(Y_test, Y_pred)\n",
        "recall_wet = metrics.recall_score(Y_test, Y_pred)\n",
        "F_wet = metrics.f1_score(Y_test, Y_pred)\n",
        "\n",
        "print(confusion_matrix)\n",
        "print(accuracy)\n",
        "print(precision_wet)\n",
        "print(recall_wet)\n",
        "print(F_wet)\n"
      ]
    },
    {
      "cell_type": "code",
      "execution_count": null,
      "metadata": {
        "id": "0WUhAkbft1DG"
      },
      "outputs": [],
      "source": []
    }
  ],
  "metadata": {
    "colab": {
      "provenance": []
    },
    "kernelspec": {
      "display_name": "Python 3",
      "language": "python",
      "name": "python3"
    },
    "language_info": {
      "codemirror_mode": {
        "name": "ipython",
        "version": 3
      },
      "file_extension": ".py",
      "mimetype": "text/x-python",
      "name": "python",
      "nbconvert_exporter": "python",
      "pygments_lexer": "ipython3",
      "version": "3.5.4"
    }
  },
  "nbformat": 4,
  "nbformat_minor": 0
}
